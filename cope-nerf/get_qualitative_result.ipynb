{
 "cells": [
  {
   "cell_type": "code",
   "execution_count": 2,
   "id": "ffe1c249",
   "metadata": {},
   "outputs": [],
   "source": [
    "\n",
    "import os\n",
    "from pathlib import Path\n",
    "from PIL import Image\n",
    "\n",
    "def stack_vertical(img_paths, out_path):\n",
    "    imgs = [Image.open(p) for p in img_paths]\n",
    "    max_w = max(im.width for im in imgs)\n",
    "    total_h = sum(im.height for im in imgs)\n",
    "    out = Image.new('RGB', (max_w, total_h))\n",
    "    y = 0\n",
    "    for im in imgs:\n",
    "        out.paste(im, (0, y))\n",
    "        y += im.height\n",
    "    out.save(out_path)\n",
    "\n",
    "def process(root_dir='chosen_qualitative', out_root='processed_qualitative'):\n",
    "    root = Path(root_dir)\n",
    "    for folder in root.rglob('*'):\n",
    "        if not folder.is_dir(): continue\n",
    "        rel = folder.relative_to(root)\n",
    "        for prefix in ('nerfmm','nerf','gs','my'):\n",
    "            img = folder / f'{prefix}_image.png'\n",
    "            dep = folder / f'{prefix}_depth.png'\n",
    "            if img.exists() and dep.exists():\n",
    "                tgt_dir = Path(out_root) / rel\n",
    "                tgt_dir.mkdir(parents=True, exist_ok=True)\n",
    "                stack_vertical([img, dep], tgt_dir / f'{prefix}_stack.png')\n",
    "\n"
   ]
  },
  {
   "cell_type": "code",
   "execution_count": 3,
   "id": "a983e6b3",
   "metadata": {},
   "outputs": [],
   "source": [
    "\n",
    "process(root_dir='chosen_qualitative', out_root='processed_qualitative')\n"
   ]
  },
  {
   "cell_type": "code",
   "execution_count": 5,
   "id": "8fa29ec9",
   "metadata": {},
   "outputs": [
    {
     "name": "stdout",
     "output_type": "stream",
     "text": [
      "var images = [\n",
      "    [\"my_imgs/qualitative/Co3D/bench/0024/gs_stack.png\", \"my_imgs/qualitative/Co3D/bench/0024/nerfmm_stack.png\", \"my_imgs/qualitative/Co3D/bench/0024/nerf_stack.png\", \"my_imgs/qualitative/Co3D/bench/0024/my_stack.png\"],\n",
      "    [\"my_imgs/qualitative/Co3D/hydrant/0024/gs_stack.png\", \"my_imgs/qualitative/Co3D/hydrant/0024/nerfmm_stack.png\", \"my_imgs/qualitative/Co3D/hydrant/0024/nerf_stack.png\", \"my_imgs/qualitative/Co3D/hydrant/0024/my_stack.png\"],\n",
      "    [\"my_imgs/qualitative/Co3D/plant/0013/gs_stack.png\", \"my_imgs/qualitative/Co3D/plant/0013/nerfmm_stack.png\", \"my_imgs/qualitative/Co3D/plant/0013/nerf_stack.png\", \"my_imgs/qualitative/Co3D/plant/0013/my_stack.png\"],\n",
      "    [\"my_imgs/qualitative/Co3D/skateboard/0001/gs_stack.png\", \"my_imgs/qualitative/Co3D/skateboard/0001/nerfmm_stack.png\", \"my_imgs/qualitative/Co3D/skateboard/0001/nerf_stack.png\", \"my_imgs/qualitative/Co3D/skateboard/0001/my_stack.png\"],\n",
      "    [\"my_imgs/qualitative/Co3D/teddybear/0020/gs_stack.png\", \"my_imgs/qualitative/Co3D/teddybear/0020/nerfmm_stack.png\", \"my_imgs/qualitative/Co3D/teddybear/0020/nerf_stack.png\", \"my_imgs/qualitative/Co3D/teddybear/0020/my_stack.png\"],\n",
      "    [\"my_imgs/qualitative/Scannet/scene0079_00/0010/gs_stack.png\", \"my_imgs/qualitative/Scannet/scene0079_00/0010/nerfmm_stack.png\", \"my_imgs/qualitative/Scannet/scene0079_00/0010/nerf_stack.png\", \"my_imgs/qualitative/Scannet/scene0079_00/0010/my_stack.png\"],\n",
      "    [\"my_imgs/qualitative/Scannet/scene0301_00/0005/gs_stack.png\", \"my_imgs/qualitative/Scannet/scene0301_00/0005/nerfmm_stack.png\", \"my_imgs/qualitative/Scannet/scene0301_00/0005/nerf_stack.png\", \"my_imgs/qualitative/Scannet/scene0301_00/0005/my_stack.png\"],\n",
      "    [\"my_imgs/qualitative/Scannet/scene0431_00/0000/gs_stack.png\", \"my_imgs/qualitative/Scannet/scene0431_00/0000/nerfmm_stack.png\", \"my_imgs/qualitative/Scannet/scene0431_00/0000/nerf_stack.png\", \"my_imgs/qualitative/Scannet/scene0431_00/0000/my_stack.png\"],\n",
      "    [\"my_imgs/qualitative/Tanks/Barn/0008/gs_stack.png\", \"my_imgs/qualitative/Tanks/Barn/0008/nerf_stack.png\", \"my_imgs/qualitative/Tanks/Barn/0008/my_stack.png\"],\n",
      "    [\"my_imgs/qualitative/Tanks/Barn/0010/gs_stack.png\", \"my_imgs/qualitative/Tanks/Barn/0010/nerf_stack.png\", \"my_imgs/qualitative/Tanks/Barn/0010/my_stack.png\"],\n",
      "    [\"my_imgs/qualitative/Tanks/Church/0049/gs_stack.png\", \"my_imgs/qualitative/Tanks/Church/0049/nerf_stack.png\", \"my_imgs/qualitative/Tanks/Church/0049/my_stack.png\"],\n",
      "    [\"my_imgs/qualitative/Tanks/Family/0099/gs_stack.png\", \"my_imgs/qualitative/Tanks/Family/0099/nerf_stack.png\", \"my_imgs/qualitative/Tanks/Family/0099/my_stack.png\"],\n",
      "    [\"my_imgs/qualitative/Tanks/Francis/0018/gs_stack.png\", \"my_imgs/qualitative/Tanks/Francis/0018/nerf_stack.png\", \"my_imgs/qualitative/Tanks/Francis/0018/my_stack.png\"],\n",
      "    [\"my_imgs/qualitative/Tanks/Museum/0010/gs_stack.png\", \"my_imgs/qualitative/Tanks/Museum/0010/nerf_stack.png\", \"my_imgs/qualitative/Tanks/Museum/0010/my_stack.png\"],\n",
      "    [\"my_imgs/qualitative/Tanks/Museum/0011/gs_stack.png\", \"my_imgs/qualitative/Tanks/Museum/0011/nerf_stack.png\", \"my_imgs/qualitative/Tanks/Museum/0011/my_stack.png\"],\n",
      "];\n"
     ]
    }
   ],
   "source": [
    "import os\n",
    "from pathlib import Path\n",
    "\n",
    "# Adjust this to the root of your qualitative results\n",
    "root = Path('my_imgs/qualitative')\n",
    "\n",
    "entries = []\n",
    "for folder in sorted(root.rglob('*')):\n",
    "    if not folder.is_dir(): \n",
    "        continue\n",
    "    rel = folder.relative_to(root)\n",
    "    # expected order: gs, nerfmm, nerf, my (barf, nerfmm, scnerf, ours)\n",
    "    prefixes = ['gs', 'nerfmm', 'nerf', 'my']\n",
    "    files = []\n",
    "    for pfx in prefixes:\n",
    "        img = folder / f'{pfx}_stack.png'\n",
    "        if img.exists():\n",
    "            # convert to web path: e.g. \"imgs/Co3D/bench/0024/gs_stack.png\"\n",
    "            files.append(f'\"my_imgs/qualitative/{rel.as_posix()}/{img.name}\"')\n",
    "    if files:\n",
    "        entries.append('    [' + ', '.join(files) + '],')\n",
    "\n",
    "# print out the JS snippet\n",
    "js = \"var images = [\\n\" + \"\\n\".join(entries) + \"\\n];\"\n",
    "print(js)\n"
   ]
  },
  {
   "cell_type": "code",
   "execution_count": null,
   "id": "2524059b",
   "metadata": {},
   "outputs": [],
   "source": []
  }
 ],
 "metadata": {
  "kernelspec": {
   "display_name": "11_clean_v1",
   "language": "python",
   "name": "python3"
  },
  "language_info": {
   "codemirror_mode": {
    "name": "ipython",
    "version": 3
   },
   "file_extension": ".py",
   "mimetype": "text/x-python",
   "name": "python",
   "nbconvert_exporter": "python",
   "pygments_lexer": "ipython3",
   "version": "3.8.20"
  }
 },
 "nbformat": 4,
 "nbformat_minor": 5
}
